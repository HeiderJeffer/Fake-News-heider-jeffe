{
 "cells": [
  {
   "cell_type": "code",
   "execution_count": 1,
   "id": "e61da965-81af-453f-a620-7128f8d4afad",
   "metadata": {
    "tags": []
   },
   "outputs": [],
   "source": [
    "import numpy as np\n",
    "import pandas as pd\n",
    "from sklearn.feature_extraction.text import TfidfVectorizer\n",
    "from sklearn.model_selection import train_test_split\n",
    "from sklearn.linear_model import PassiveAggressiveClassifier\n",
    "from sklearn.metrics import accuracy_score, confusion_matrix"
   ]
  },
  {
   "cell_type": "code",
   "execution_count": 2,
   "id": "2c809577-d4c1-48cb-85cc-b3fcbfa3bda6",
   "metadata": {
    "tags": []
   },
   "outputs": [],
   "source": [
    "# Load the dataset\n",
    "df = pd.read_csv(r'fake_or_real_news.csv')  # Replace 'fake_news_dataset.csv' with your dataset file"
   ]
  },
  {
   "cell_type": "code",
   "execution_count": 3,
   "id": "dad84d71-a244-48a5-b73c-32d952db6571",
   "metadata": {
    "tags": []
   },
   "outputs": [],
   "source": [
    "# Split the dataset into training and testing sets\n",
    "X = df['text']  # Features\n",
    "y = df['label']  # Target variable\n",
    "X_train, X_test, y_train, y_test = train_test_split(X, y, test_size=0.2, random_state=42)"
   ]
  },
  {
   "cell_type": "code",
   "execution_count": 4,
   "id": "10eb6668-fac8-4b24-9307-81856aaf9cd7",
   "metadata": {
    "tags": []
   },
   "outputs": [],
   "source": [
    "# Create a TF-IDF vectorizer\n",
    "tfidf_vectorizer = TfidfVectorizer(stop_words='english', max_df=0.7)"
   ]
  },
  {
   "cell_type": "code",
   "execution_count": 5,
   "id": "e4095671-e892-4630-87a4-215e4aeafbfb",
   "metadata": {
    "tags": []
   },
   "outputs": [],
   "source": [
    "# Apply TF-IDF transformation to the training data\n",
    "tfidf_train = tfidf_vectorizer.fit_transform(X_train)"
   ]
  },
  {
   "cell_type": "code",
   "execution_count": 6,
   "id": "3f670bc2-ba36-499c-a28a-1ba3e59877a3",
   "metadata": {
    "tags": []
   },
   "outputs": [],
   "source": [
    "# Apply TF-IDF transformation to the testing data\n",
    "tfidf_test = tfidf_vectorizer.transform(X_test)"
   ]
  },
  {
   "cell_type": "code",
   "execution_count": 7,
   "id": "381bfbda-cff7-448b-89fa-9694ebb9a8d1",
   "metadata": {
    "tags": []
   },
   "outputs": [],
   "source": [
    "# Create a Passive Aggressive Classifier\n",
    "classifier = PassiveAggressiveClassifier(max_iter=50)"
   ]
  },
  {
   "cell_type": "code",
   "execution_count": 8,
   "id": "29d6220f-61fb-431c-8ea2-4cfbf1eb2d26",
   "metadata": {
    "tags": []
   },
   "outputs": [
    {
     "data": {
      "text/plain": [
       "PassiveAggressiveClassifier(max_iter=50)"
      ]
     },
     "execution_count": 8,
     "metadata": {},
     "output_type": "execute_result"
    }
   ],
   "source": [
    "# Train the classifier\n",
    "classifier.fit(tfidf_train, y_train)"
   ]
  },
  {
   "cell_type": "code",
   "execution_count": 9,
   "id": "a974d4c5-9849-4034-9f77-d17b2a9b4b57",
   "metadata": {
    "tags": []
   },
   "outputs": [],
   "source": [
    "# Make predictions on the test set\n",
    "y_pred = classifier.predict(tfidf_test)"
   ]
  },
  {
   "cell_type": "code",
   "execution_count": 10,
   "id": "a1d0d664-0fe8-49bb-88c1-114551b69edb",
   "metadata": {
    "tags": []
   },
   "outputs": [],
   "source": [
    "# Calculate accuracy and confusion matrix\n",
    "accuracy = accuracy_score(y_test, y_pred)\n",
    "confusion_mat = confusion_matrix(y_test, y_pred)"
   ]
  },
  {
   "cell_type": "code",
   "execution_count": 11,
   "id": "9fc44e20-af10-455e-a326-39da84d934bf",
   "metadata": {
    "tags": []
   },
   "outputs": [
    {
     "name": "stdout",
     "output_type": "stream",
     "text": [
      "Accuracy: 0.9352801894238358\n",
      "Confusion Matrix:\n",
      "[[589  39]\n",
      " [ 43 596]]\n"
     ]
    }
   ],
   "source": [
    "print(\"Accuracy:\", accuracy)\n",
    "print(\"Confusion Matrix:\")\n",
    "print(confusion_mat)"
   ]
  },
  {
   "cell_type": "code",
   "execution_count": null,
   "id": "1d75042a-3dba-48b3-ab57-5243b1fa5894",
   "metadata": {
    "tags": []
   },
   "outputs": [],
   "source": []
  },
  {
   "cell_type": "code",
   "execution_count": null,
   "id": "c3057330-d69b-4852-bf91-1a523a51a6b5",
   "metadata": {},
   "outputs": [],
   "source": []
  }
 ],
 "metadata": {
  "kernelspec": {
   "display_name": "Python 3 (ipykernel)",
   "language": "python",
   "name": "python3"
  },
  "language_info": {
   "codemirror_mode": {
    "name": "ipython",
    "version": 3
   },
   "file_extension": ".py",
   "mimetype": "text/x-python",
   "name": "python",
   "nbconvert_exporter": "python",
   "pygments_lexer": "ipython3",
   "version": "3.7.8"
  }
 },
 "nbformat": 4,
 "nbformat_minor": 5
}
